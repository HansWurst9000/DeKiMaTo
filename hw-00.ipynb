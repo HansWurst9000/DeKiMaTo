{
 "cells": [
  {
   "cell_type": "markdown",
   "metadata": {},
   "source": [
    "# <img style=\"float: left; padding-right: 10px; width: 200px\" src=\"https://raw.githubusercontent.com/trivikverma/researchgroup/master/assets/media/logo.png\"> EPA-122A *Spatial* Data Science \n",
    "\n",
    "\n",
    "## Homework 0: Introduction to Python and its Numerical Stack\n",
    "\n",
    "**TU Delft**<br>\n",
    "**Q2 2023**<br>\n",
    "**Instructor:** Trivik Verma <br>\n",
    "**[Centre for Urban Science & Policy]( https://cusp.tbm.tudelft.nl/)** <br>\n",
    "\n",
    "\n",
    "---\n",
    "\n"
   ]
  },
  {
   "cell_type": "markdown",
   "metadata": {
    "tags": []
   },
   "source": [
    "# Homework Exercises"
   ]
  },
  {
   "cell_type": "markdown",
   "metadata": {},
   "source": [
    "## Exercise 1\n",
    "### Write a properly documented function with the following behaviour:\n",
    "\n",
    "- It has a meaningful name (i.e. it is related to its behaviour).\n",
    "- It takes an integer that represents the length of a sequence that will be created.\n",
    "- It creates a dictionary that is empty.\n",
    "- It loops over the sequence and stores each number as the key of an entry in the dictionary, assigning either \"odd\" or \"even\" to the value, depending on the type of number.\n",
    "\n",
    "- Returns the dictionary."
   ]
  },
  {
   "cell_type": "code",
   "execution_count": 1,
   "metadata": {},
   "outputs": [
    {
     "name": "stdout",
     "output_type": "stream",
     "text": [
      "{0: 'Even', 1: 'Uneven', 2: 'Even', 3: 'Uneven', 4: 'Even', 5: 'Uneven', 6: 'Even', 7: 'Uneven'}\n"
     ]
    }
   ],
   "source": [
    "\"\"\"\n",
    "Explanation why we chose this code:\n",
    "We chose this code because it is most efficient, readible \n",
    "and it explains well what it does in the comments.\n",
    "\"\"\"\n",
    "\n",
    "# define function with one input variable\n",
    "def parity(i):\n",
    "\n",
    "#create empty dictionary\n",
    "    dic=dict()\n",
    "\n",
    "#loop over the given sequence until i+1, to include the given integer in the dictionary\n",
    "    for j in range (i+1):\n",
    "\n",
    "#check parity conditon with modulus, assign value (even/uneven) to each key)\n",
    "        if j % 2 == 0:\n",
    "            dic[j]=\"Even\"\n",
    "        elif j % 2 == 1:\n",
    "            dic[j]=\"Uneven\"\n",
    "\n",
    "#function output               \n",
    "    return dic\n",
    "\n",
    "#Asks for input from user\n",
    "input= int(input(\"Please, enter an integer\"))\n",
    "answer=parity(input)\n",
    "print(answer)\n",
    "\n",
    "\n",
    "#parity(8)\n",
    "\n"
   ]
  },
  {
   "cell_type": "markdown",
   "metadata": {},
   "source": [
    "## Exercise 2\n",
    "### Create a tuple called `tup` with the following seven objects: \n",
    "\n",
    "- The first element is an integer of your choice\n",
    "- The second element is a float of your choice  \n",
    "- The third element is the sum of the first two elements\n",
    "- The fourth element is the difference of the first two elements\n",
    "- The fifth element is the first element divided by the second element\n",
    "\n",
    "- Display the output of `tup`.  What is the type of the variable `tup`? What happens if you try and chage an item in the tuple? "
   ]
  },
  {
   "cell_type": "code",
   "execution_count": 42,
   "metadata": {},
   "outputs": [
    {
     "name": "stdout",
     "output_type": "stream",
     "text": [
      "(10, 2.5, 12.5, 7.5, 4.0)\n",
      "<class 'tuple'>\n",
      "(10, 2.5, 12.5, 7.5, 4.0, 55, 77)\n"
     ]
    }
   ],
   "source": [
    "\"\"\"\n",
    "Explanation why we chose this code:\n",
    "This code is the most readable and efficient code and the shortest tuple. \n",
    "In addition it show that you cannot change an item in the tuple.\n",
    "\"\"\"\n",
    "#Initialise variables\n",
    "a=10\n",
    "b=2.5\n",
    "\n",
    "#Initialise tuple\n",
    "tup = (a,b,a+b,a-b,a/b)\n",
    "\n",
    "#Display tuple output and type\n",
    "print(tup)\n",
    "print(type(tup))\n",
    "\n",
    "#Tuples are immutable, the following line of code (commented out) does NOT work\n",
    "#tup[1]=55\n",
    "\n",
    "#It is possible though tomerge two tuples together\n",
    "tup2 = (55,77)\n",
    "x = tup.__add__(tup2)\n",
    "print(x)\n"
   ]
  },
  {
   "cell_type": "markdown",
   "metadata": {},
   "source": [
    "## Exercise 3\n",
    "### Build a list that contains every prime number between 1 and 100, in two different ways:\n",
    "    \n",
    "1. Using for loops and conditional if statements.\n",
    "2. **(Stretch Goal)** Using a list comprehension.  You should be able to do this in one line of code. **Hint:** it might help to look up the function `all()` in the documentation."
   ]
  },
  {
   "cell_type": "code",
   "execution_count": 7,
   "metadata": {},
   "outputs": [
    {
     "data": {
      "text/plain": [
       "[2,\n",
       " 3,\n",
       " 5,\n",
       " 7,\n",
       " 11,\n",
       " 13,\n",
       " 17,\n",
       " 19,\n",
       " 23,\n",
       " 29,\n",
       " 31,\n",
       " 37,\n",
       " 41,\n",
       " 43,\n",
       " 47,\n",
       " 53,\n",
       " 59,\n",
       " 61,\n",
       " 67,\n",
       " 71,\n",
       " 73,\n",
       " 79,\n",
       " 83,\n",
       " 89,\n",
       " 97]"
      ]
     },
     "execution_count": 7,
     "metadata": {},
     "output_type": "execute_result"
    }
   ],
   "source": [
    "\"\"\"\n",
    "Explanation why we chose this code:\n",
    "\n",
    "\"\"\"\n",
    "def prime():\n",
    "    #create empty list, initiate counter, define n as our given range\n",
    "    list=[]\n",
    "    counter=0\n",
    "    n=100\n",
    "\n",
    "    #loop through every number between 1 and 100\n",
    "    for i in range(1,n+1):\n",
    "        counter=0\n",
    "\n",
    "    #for every number, divide it by every privious number and check if the result is an integer. Count how many times this is the case\n",
    "        for j in range(1,i+1): \n",
    "            if i % j == 0 :\n",
    "                counter +=1\n",
    "\n",
    "    #If you get integers as a result of the division exactly two times (e.g. 17/1=0 and 17/17=0), then it is a prime number\n",
    "    # Append the prime number to list  \n",
    "        if counter == 2:\n",
    "            list.append(j)\n",
    "        \n",
    "    return list\n",
    "\n",
    "#execute function\n",
    "prime()\n",
    "\n"
   ]
  },
  {
   "cell_type": "code",
   "execution_count": 20,
   "metadata": {},
   "outputs": [
    {
     "data": {
      "text/plain": [
       "[2,\n",
       " 3,\n",
       " 5,\n",
       " 7,\n",
       " 11,\n",
       " 13,\n",
       " 17,\n",
       " 19,\n",
       " 23,\n",
       " 29,\n",
       " 31,\n",
       " 37,\n",
       " 41,\n",
       " 43,\n",
       " 47,\n",
       " 53,\n",
       " 59,\n",
       " 61,\n",
       " 67,\n",
       " 71,\n",
       " 73,\n",
       " 79,\n",
       " 83,\n",
       " 89,\n",
       " 97]"
      ]
     },
     "execution_count": 20,
     "metadata": {},
     "output_type": "execute_result"
    }
   ],
   "source": [
    "\"\"\"\n",
    "Explanation why we chose this code:\n",
    "This code again has  the shortest code and contains for the second function \n",
    "with the all () almost one line of coding\n",
    "\"\"\"\n",
    "def prime():\n",
    "\n",
    "#create a list between 2 to 100 through list comprehension, 1 is not a prime\n",
    "    numbers= [num for num in range(2,101)]\n",
    "\n",
    "\n",
    "#create another list only including the numbers that are are primes\n",
    "#the if condition does NOT check if a number is divisible by itself or by 1. It only checks if there are other divisors to make this number divisible, thus proving it's not a prime\n",
    "    primes = [n for n in numbers if all(n % div for div in range(2, n))]\n",
    "\n",
    "    return primes\n",
    "\n",
    "#execute function\n",
    "prime()"
   ]
  },
  {
   "cell_type": "markdown",
   "metadata": {},
   "source": [
    "## Exercise 4\n",
    "### Write a function to test the \"prime-ness\" of a number.\n",
    "    \n",
    "In Exercise 4, above, you wrote code that generated a list of the prime numbers between 1 and 100. Now, write a function called `isprime()` that takes in a positive integer $N$, and determines whether or not it is prime.  Return `True` if it's prime and return `False` if it isn't. Then, using a list comprehension and `isprime()`, create a list `myprimes` that contains all the prime numbers less than 100.  "
   ]
  },
  {
   "cell_type": "code",
   "execution_count": 16,
   "metadata": {},
   "outputs": [
    {
     "data": {
      "text/plain": [
       "[0,\n",
       " 1,\n",
       " 2,\n",
       " 3,\n",
       " 4,\n",
       " 5,\n",
       " 6,\n",
       " 7,\n",
       " 8,\n",
       " 9,\n",
       " 10,\n",
       " 11,\n",
       " 12,\n",
       " 13,\n",
       " 14,\n",
       " 15,\n",
       " 16,\n",
       " 17,\n",
       " 18,\n",
       " 19,\n",
       " 20,\n",
       " 21,\n",
       " 22,\n",
       " 23,\n",
       " 24,\n",
       " 25,\n",
       " 26,\n",
       " 27,\n",
       " 28,\n",
       " 29,\n",
       " 30,\n",
       " 31,\n",
       " 32,\n",
       " 33,\n",
       " 34,\n",
       " 35,\n",
       " 36,\n",
       " 37,\n",
       " 38,\n",
       " 39,\n",
       " 40,\n",
       " 41,\n",
       " 42,\n",
       " 43,\n",
       " 44,\n",
       " 45,\n",
       " 46,\n",
       " 47,\n",
       " 48,\n",
       " 49,\n",
       " 50,\n",
       " 51,\n",
       " 52,\n",
       " 53,\n",
       " 54,\n",
       " 55,\n",
       " 56,\n",
       " 57,\n",
       " 58,\n",
       " 59,\n",
       " 60,\n",
       " 61,\n",
       " 62,\n",
       " 63,\n",
       " 64,\n",
       " 65,\n",
       " 66,\n",
       " 67,\n",
       " 68,\n",
       " 69,\n",
       " 70,\n",
       " 71,\n",
       " 72,\n",
       " 73,\n",
       " 74,\n",
       " 75,\n",
       " 76,\n",
       " 77,\n",
       " 78,\n",
       " 79,\n",
       " 80,\n",
       " 81,\n",
       " 82,\n",
       " 83,\n",
       " 84,\n",
       " 85,\n",
       " 86,\n",
       " 87,\n",
       " 88,\n",
       " 89,\n",
       " 90,\n",
       " 91,\n",
       " 92,\n",
       " 93,\n",
       " 94,\n",
       " 95,\n",
       " 96,\n",
       " 97,\n",
       " 98,\n",
       " 99,\n",
       " 100]"
      ]
     },
     "execution_count": 16,
     "metadata": {},
     "output_type": "execute_result"
    }
   ],
   "source": [
    "\"\"\"\n",
    "Explanation why we chose this code\n",
    "This code is most efficient, although it lacks explanation for beginners. \n",
    "The explanation is all at the top of the code instead of explenation by every line.\n",
    "\"\"\"\n",
    "\n",
    "#function check if a given number is a prime using a counter (same method as exercise 3a)\n",
    "def isprime(N):\n",
    "    counter=0\n",
    "    for j in range(1,N+1): \n",
    "            if N % j == 0 :\n",
    "                counter +=1\n",
    "\n",
    "#returns true or false\n",
    "    if counter == 2:\n",
    "        return True\n",
    "    else:\n",
    "         return False\n",
    "\n",
    "#another function creating a list from 0 to 100 and a list with all the primes with list comprehension (similar to exersice 3b)\n",
    "#the if condition checks whether any given is a prime or not by calling the isprime() function\n",
    "def primes():\n",
    "     numbers= [num for num in range(0,101)]\n",
    "     myprimes = [n for n in numbers if (isprime(numbers[i])==True for i in range(0,101))]\n",
    "     return myprimes\n",
    "\n",
    "#execute primes() function\n",
    "primes()\n",
    "\n",
    "    "
   ]
  },
  {
   "cell_type": "markdown",
   "metadata": {},
   "source": [
    "---"
   ]
  },
  {
   "cell_type": "markdown",
   "metadata": {},
   "source": [
    "## Optional Exercise\n",
    "### Try to reproduce, using markdown and the different tools the notebook affords you, the following WikiPedia entry:\n",
    "\n",
    "\n",
    "> https://en.wikipedia.org/wiki/Puppy\n"
   ]
  },
  {
   "cell_type": "code",
   "execution_count": 56,
   "metadata": {},
   "outputs": [
    {
     "data": {
      "text/html": [
       "\n",
       "        <iframe\n",
       "            width=\"700\"\n",
       "            height=\"500\"\n",
       "            src=\"https://en.wikipedia.org/wiki/Puppy\"\n",
       "            frameborder=\"0\"\n",
       "            allowfullscreen\n",
       "            \n",
       "        ></iframe>\n",
       "        "
      ],
      "text/plain": [
       "<IPython.lib.display.IFrame at 0x1553f108d70>"
      ]
     },
     "execution_count": 56,
     "metadata": {},
     "output_type": "execute_result"
    }
   ],
   "source": [
    "from IPython.display import IFrame\n",
    "IFrame('https://en.wikipedia.org/wiki/Puppy', 700, 500)"
   ]
  },
  {
   "cell_type": "markdown",
   "metadata": {},
   "source": [
    "Do not over think it. Focuse and pay special attention to getting the bold, italics, links, headlines and lists correctly formated, but don't worry too much about the overall layout. Bonus if you manage to insert the image as well (it does not need to be properly placed as in the original page)!"
   ]
  },
  {
   "cell_type": "markdown",
   "metadata": {},
   "source": [
    "# Puppy\n",
    "---\n",
    "*This article is about the domestic dog. For other uses, see Puppy (disambiguation).\"Baby dog\" redirects here. For the dog owned by Jim Justice, see Babydog.*\n",
    "\n",
    "\n",
    "A **puppy** is a [juvenile](https://en.wikipedia.org/wiki/Juvenile_(organism)) [dog](https://en.wikipedia.org/wiki/Dog). Some puppies can weigh 1–1.5 kg (2.2–3.3 lb), while larger ones can weigh over 7 kg (15 lb). All puppies display primary [altriciality](https://en.wikipedia.org/wiki/Precociality_and_altriciality) and healthy puppies grow quickly after birth. A puppy's coat color may change as the puppy grows older, as is commonly seen in breeds such as the [Yorkshire Terrier](https://en.wikipedia.org/wiki/Yorkshire_Terrier). Puppy refers specifically to young dogs,[1] while pup may be used for other animals such as wolves, seals, giraffes, guinea pigs, rats or sharks.[2]\n",
    "## Prenatal development\n",
    "---\n",
    "Dogs go through prenatal development before they are born, just like all animals do. The germinal stage, the embryonic stage, and the fetal stage are the three phases that make up this development.\n",
    "\n",
    "The first stage of prenatal growth in dogs is known as the germinal stage, which starts at fertilization and lasts for about two weeks. The fertilized egg, also known as the zygote, travels through the fallopian tube to the uterus during this period while undergoing rapid cell division. The placenta, which will feed the growing puppy, is formed once the zygote enters the uterus and settles in the uterine wall.[3]\n",
    "\n",
    "The embryonic period lasts from about day 14 of pregnancy until day 28 or so. With the growth of important organs and body systems, the embryo starts to take on a more recognizable shape at this stage. This involves the development of the digestive system, brain, heart, and lungs. An ultrasound can show the embryo at this time, which is about the size of a grape.[4]\n",
    "\n",
    "Around day 28 is when the fetal period starts, and it lasts until day 63, when the puppy is born. The puppy's organs and systems continue to develop and refine during this period of growth and development. It also involves the ability to control its own body temperature as well as the maturation of the senses, such as hearing and sight. The puppy is completely developed and prepared for birth by the time the fetal period is over.[5]\n",
    "\n",
    "## Development\n",
    "---\n",
    "Puppies are born after an average of 63 days of gestation, emerging in an amnion that is bitten off and eaten by the mother dog.[6] Puppies begin to nurse almost immediately. If the litter exceeds six puppies, particularly if one or more are obvious runts, human intervention in hand-feeding the stronger puppies is necessary to ensure that the runts get proper nourishment and attention from the mother. As they reach one month of age, puppies are gradually weaned and begin to eat solid food. The mother may regurgitate partially digested food for the puppies or might let them eat some of her solid food.[7] The mother usually refuses to nurse at this stage, though she might let them occasionally nurse for comfort.\n",
    "\n",
    "At first, puppies spend the large majority of their time sleeping and the rest feeding. They instinctively pile together into a heap, and become distressed if separated from physical contact with their littermates by even a short distance.[8]\n",
    "\n",
    "Puppies are born with a fully functional sense of smell. They are unable to open their eyes. During their first two weeks, a puppy's senses all develop rapidly. During this stage the nose is the primary sense organ used by puppies to find their mother's teats, and to locate their littermates, if they become separated by a short distance. Puppies open their eyes about nine to eleven days following birth. At first, their retinas are poorly developed and their vision is poor. Puppies are not able to see as well as adult dogs. In addition, puppies' ears remain sealed until about thirteen to seventeen days after birth, after which they respond more actively to sounds. Between two and four weeks old, puppies usually begin to growl, bite, wag their tails, and bark.[9]\n",
    "\n",
    "Puppies develop very quickly during their first three months, particularly after their eyes and ears open and they are no longer completely dependent on their mother. Their coordination and strength improve, they spar with their littermates, and begin to explore the world outside the nest. They play wrestling, chase, dominance, and tug-of-war games.\n",
    "\n",
    "## Socialization\n",
    "---\n",
    "Puppies are highly social animals and spend most of their waking hours interacting with either their mother or littermates. When puppies are socialized with humans, particularly between the ages of eight and twelve weeks, they develop social skills around people. Those that do not receive adequate socialization during this period may display fearful behavior around humans or other dogs as adults. The optimum period for socialisation is between eight and twelve weeks; professional animal trainers and the American Kennel Club advise puppies should be introduced to \"100 People by 12 Weeks\" and have encountered a wide and varied selection of people and environments.[10]\n",
    "\n",
    "## Docking and declawing\n",
    "---\n",
    "The practice of docking began primarily as a preventive measure for injury among working dogs. Docking is now primarily performed for purely cosmetic reasons, and some breeds traditionally have their tails cropped anywhere from slightly to almost entirely.[11] Many countries now ban cropping and docking for cosmetic purposes, including Australia, parts of Canada, the majority of the European countries (Austria, Greece, Finland, Netherlands, Italy, the Czech Republic, Turkey, Poland, Slovakia, England, Scotland, Slovenia, Ireland, Norway and Sweden), while others, such as the United States, permit it. As of 2008, the practice is opposed by the American Veterinary Medical Association.[12] Some breeders also prefer to declaw the dogs to prevent future injuries caused by scratching, or in the case of dewclaws, ingrown and ripped-off nails. Docking and declawing procedures are usually performed within the first few days after birth, by a veterinarian, or by an experienced breeder.\n",
    "\n",
    "## Gallery\n",
    "---\n",
    "![](https://upload.wikimedia.org/wikipedia/commons/b/b1/ACD_Silverbarn%27s_Ronja_x.jpg)\n",
    "![](https://upload.wikimedia.org/wikipedia/commons/c/c4/Abandoned_Dog.jpg)\n",
    "![](https://upload.wikimedia.org/wikipedia/commons/1/17/Westie_pups.jpg)\n",
    "![](https://upload.wikimedia.org/wikipedia/commons/7/71/St._Bernard_puppy.jpg)\n",
    "![](https://upload.wikimedia.org/wikipedia/commons/8/84/Image-Cavapoo_puppy.JPG)\n",
    "![](https://upload.wikimedia.org/wikipedia/commons/a/aa/Beulah_at_Five_%26_A_Half_Weeks_on_Jan_Coffman%27s_Farm%2C_Walkerville%2C_MD_June_1999_by_Asilverstein.jpg)\n",
    "![](https://en.wikipedia.org/wiki/Puppy#/media/File:Chihuahua_puppy_001.jpg)\n",
    "![](https://upload.wikimedia.org/wikipedia/commons/6/68/Szczenie_Jack_Russell_Terrier3.jpg)\n",
    "![](https://upload.wikimedia.org/wikipedia/commons/5/50/Puggle_puppy_%28cropped%29.jpg)\n",
    "![](https://en.wikipedia.org/wiki/Puppy#/media/File:Basenji_puppies.jpg)\n",
    "![](https://upload.wikimedia.org/wikipedia/commons/2/2c/German_Spitz_puppy.jpg)\n",
    "![](https://upload.wikimedia.org/wikipedia/commons/c/c7/Puppy_on_Halong_Bay.jpg)\n",
    "![](https://upload.wikimedia.org/wikipedia/commons/f/ff/Raskal.jpg)\n",
    "![](https://upload.wikimedia.org/wikipedia/commons/b/b6/Two_red_and_white_haired_shih_tzu_littermates.jpg)\n",
    "![](https://upload.wikimedia.org/wikipedia/commons/4/47/President_Lyndon_B._Johnson_and_his_puppies.jpg)\n",
    "\n",
    "## References\n",
    "---\n",
    " 1.\"Puppy\". Merriam-Webster. Retrieved April 30, 2018.  \n",
    " 2.\"Pup\". Merriam-Webster. Retrieved April 30, 2018.  \n",
    " 3.Pretzer, S. D. (2008-08-01). \"Canine embryonic and fetal development: A review\". Theriogenology. Proceedings of the Annual Conference of the Society for Theriogenology. 70 (3): 300–303. doi:10.1016/j.theriogenology.2008.04.029. ISSN 0093-691X.  \n",
    " 4.Themes, U. F. O. (2016-07-18). \"Prenatal Development\". Veterian Key. Retrieved 2023-02-20.  \n",
    " 5.Pretzer, S. D. (2008-08-01). \"Canine embryonic and fetal development: A review\". Theriogenology. Proceedings of the Annual Conference of the Society for Theriogenology. 70 (3): 300–303. doi:10.1016/j.theriogenology.2008.04.029. ISSN 0093-691X.  \n",
    " 6.Whitehead, Sarah. Dog: The complete guide, 1999, page 158  \n",
    " 7.Coren, Stanley. Why Does My Dog Act That Way?: A Complete Guide to Your Dog's Personality, 2006, page 44  \n",
    " 8.Larkin, Peter. The ultimate encyclopedia of dogs, dog breeds & dog care, 2006, page 53  \n",
    " 9.White, Linda. First Steps with Puppies and Kittens: A Practice-Team Approach to Behavior, 2009, page 54  \n",
    " 10.Paddock, Arliss. \"The Importance of Puppy Socialization\". American Kennel Club. Archived from the original on 2 February 2014. Retrieved 28 January 2014.  \n",
    " 11.Serpell, James A. Companion Animals And Us: Exploring the Relationships Between People and Pets, 2000, page 307  \n",
    " AVMA.org, AVMA opposes cosmetic ear cropping, tail docking of dogs - December 15, 2008  \n",
    " \n",
    "## Further reading\n",
    "---\n",
    "-Cunliffe, Juliette (2004). The Encyclopedia of Dog Breeds. Parragon Publishing. ISBN 0-7525-8276-3.  \n",
    "-Fogle, Bruce (2000). The New Encyclopedia of the Dog. Doring Kindersley (DK). ISBN 0-7894-6130-7.  \n",
    "-Mehus-Roe, Kristin, ed. (2005). Dog Bible. BowTie. ISBN 1-931993-34-3.  "
   ]
  }
 ],
 "metadata": {
  "kernelspec": {
   "display_name": "Python 3",
   "language": "python",
   "name": "python3"
  },
  "language_info": {
   "codemirror_mode": {
    "name": "ipython",
    "version": 3
   },
   "file_extension": ".py",
   "mimetype": "text/x-python",
   "name": "python",
   "nbconvert_exporter": "python",
   "pygments_lexer": "ipython3",
   "version": "3.12.5"
  }
 },
 "nbformat": 4,
 "nbformat_minor": 4
}
